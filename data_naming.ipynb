{
 "cells": [
  {
   "cell_type": "code",
   "execution_count": 2,
   "id": "98ac8909",
   "metadata": {},
   "outputs": [],
   "source": [
    "import pandas as pd\n",
    "\n",
    "# Load the Excel file\n",
    "file_path = 'housing_data_export.xlsx'\n",
    "xlsx = pd.ExcelFile(file_path)"
   ]
  },
  {
   "cell_type": "code",
   "execution_count": 3,
   "id": "9aebf3e4",
   "metadata": {},
   "outputs": [
    {
     "data": {
      "text/plain": [
       "['hp_df',\n",
       " 'new-delhi',\n",
       " 'bangalore',\n",
       " 'kolkata',\n",
       " 'gurgaon',\n",
       " 'ahmedabad',\n",
       " 'hyderabad',\n",
       " 'chennai',\n",
       " 'jaipur',\n",
       " 'greater-noida',\n",
       " 'faridabad',\n",
       " 'ranchi',\n",
       " 'raipur',\n",
       " 'Group_0-99',\n",
       " 'Group_100-199',\n",
       " 'Group_200-499',\n",
       " 'Group_500-999',\n",
       " 'Group_1000-1999',\n",
       " 'Group_2000-2499']"
      ]
     },
     "execution_count": 3,
     "metadata": {},
     "output_type": "execute_result"
    }
   ],
   "source": [
    "xlsx.sheet_names"
   ]
  },
  {
   "cell_type": "code",
   "execution_count": 4,
   "id": "c46758c8",
   "metadata": {},
   "outputs": [],
   "source": [
    "# Load main DataFrame\n",
    "hp_df = pd.read_excel(xlsx, sheet_name='hp_df')\n",
    "\n",
    "# Load a special city\n",
    "newdelhi_df = pd.read_excel(xlsx, sheet_name='new-delhi')\n",
    "bangalore_df = pd.read_excel(xlsx, sheet_name='bangalore')\n",
    "kolkata_df = pd.read_excel(xlsx, sheet_name='kolkata')\n",
    "gurgaon_df = pd.read_excel(xlsx, sheet_name='gurgaon')\n",
    "ahmedabad_df = pd.read_excel(xlsx, sheet_name='ahmedabad')\n",
    "hyderabad_df = pd.read_excel(xlsx, sheet_name='hyderabad')\n",
    "chennai_df = pd.read_excel(xlsx, sheet_name='chennai')\n",
    "jaipur_df = pd.read_excel(xlsx, sheet_name='jaipur')\n",
    "greaternoida_df = pd.read_excel(xlsx, sheet_name='greater-noida')\n",
    "faridabad_df = pd.read_excel(xlsx, sheet_name='faridabad')\n",
    "ranchi_df = pd.read_excel(xlsx, sheet_name='ranchi')\n",
    "raipur_df = pd.read_excel(xlsx, sheet_name='raipur')\n",
    "# Load a grouped city range\n",
    "group_0_99_df = pd.read_excel(xlsx, sheet_name='Group_0-99')\n",
    "group_100_199_df = pd.read_excel(xlsx, sheet_name='Group_100-199')\n",
    "group_200_499_df = pd.read_excel(xlsx, sheet_name='Group_200-499')\n",
    "group_500_999_df = pd.read_excel(xlsx, sheet_name='Group_500-999')\n",
    "group_1000_1999_df = pd.read_excel(xlsx, sheet_name='Group_1000-1999')\n",
    "group_2000_2499_df = pd.read_excel(xlsx, sheet_name='Group_2000-2499')"
   ]
  },
  {
   "cell_type": "code",
   "execution_count": 5,
   "id": "7a191256",
   "metadata": {},
   "outputs": [],
   "source": [
    "# Create a dictionary of all your DataFrames\n",
    "dfs = {\n",
    "    'newdelhi_df': newdelhi_df,\n",
    "    'bangalore_df': bangalore_df,\n",
    "    'kolkata_df': kolkata_df,\n",
    "    'gurgaon_df': gurgaon_df,\n",
    "    'ahmedabad_df': ahmedabad_df,\n",
    "    'hyderabad_df': hyderabad_df,\n",
    "    'chennai_df': chennai_df,\n",
    "    'jaipur_df': jaipur_df,\n",
    "    'greaternoida_df': greaternoida_df,\n",
    "    'faridabad_df': faridabad_df,\n",
    "    'ranchi_df': ranchi_df,\n",
    "    'raipur_df': raipur_df,\n",
    "    'group_0_99_df': group_0_99_df,\n",
    "    'group_100_199_df': group_100_199_df,\n",
    "    'group_200_499_df': group_200_499_df,\n",
    "    'group_500_999_df': group_500_999_df,\n",
    "    'group_1000_1999_df': group_1000_1999_df,\n",
    "    'group_2000_2499_df': group_2000_2499_df,\n",
    "}\n",
    "\n",
    "# Reset index for each DataFrame\n",
    "# Reset index and drop redundant 'Index' column if it exists\n",
    "for name, df in dfs.items():\n",
    "    df.reset_index(drop=True, inplace=True)\n",
    "    if 'Index' in df.columns:\n",
    "        df.drop(columns=['Index'], inplace=True)\n",
    "    df.insert(0, 'Index', df.index)"
   ]
  },
  {
   "cell_type": "code",
   "execution_count": 12,
   "id": "bac8df67",
   "metadata": {},
   "outputs": [],
   "source": [
    "newdelhi_df.to_csv(\"newdelhi_df.csv\" , index = False)\n",
    "bangalore_df.to_csv(\"bangalore_df.csv\", index=False)\n",
    "kolkata_df.to_csv(\"kolkata_df.csv\", index=False)\n",
    "gurgaon_df.to_csv(\"gurgaon_df.csv\" , index = False)\n",
    "ahmedabad_df.to_csv(\"ahmedabad_df.csv\", index=False)\n",
    "hyderabad_df.to_csv(\"hyderabad_df.csv\" , index = False)\n",
    "chennai_df.to_csv(\"chennai_df.csv\", index=False)\n",
    "jaipur_df.to_csv(\"jaipur_df.csv\" , index = False)\n",
    "greaternoida_df.to_csv(\"greaternoida_df.csv\", index=False)\n",
    "faridabad_df.to_csv(\"faridabad_df.csv\" , index = False)\n",
    "ranchi_df.to_csv(\"ranchi_df.csv\" , index = False)\n",
    "raipur_df.to_csv(\"raipur_df.csv\" , index = False)\n",
    "group_0_99_df.to_csv(\"group_0_99_df.csv\", index = False)\n",
    "group_100_199_df.to_csv(\"group_100_199_df.csv\", index = False)\n",
    "group_200_499_df.to_csv(\"group_200_499_df.csv\", index = False)\n",
    "group_500_999_df.to_csv(\"group_500_999_df.csv\", index = False)\n",
    "group_1000_1999_df.to_csv(\"group_1000_1999_df.csv\", index = False)\n",
    "group_2000_2499_df.to_csv(\"group_2000_2499_df.csv\", index = False)"
   ]
  }
 ],
 "metadata": {
  "kernelspec": {
   "display_name": "python_course",
   "language": "python",
   "name": "python3"
  },
  "language_info": {
   "codemirror_mode": {
    "name": "ipython",
    "version": 3
   },
   "file_extension": ".py",
   "mimetype": "text/x-python",
   "name": "python",
   "nbconvert_exporter": "python",
   "pygments_lexer": "ipython3",
   "version": "3.11.11"
  }
 },
 "nbformat": 4,
 "nbformat_minor": 5
}
